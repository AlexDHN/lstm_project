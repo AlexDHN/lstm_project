{
 "cells": [
  {
   "cell_type": "code",
   "execution_count": 1,
   "metadata": {},
   "outputs": [
    {
     "name": "stderr",
     "output_type": "stream",
     "text": [
      "c:\\Users\\Alexandre\\AppData\\Local\\Programs\\Python\\Python39\\lib\\site-packages\\tqdm\\auto.py:22: TqdmWarning: IProgress not found. Please update jupyter and ipywidgets. See https://ipywidgets.readthedocs.io/en/stable/user_install.html\n",
      "  from .autonotebook import tqdm as notebook_tqdm\n",
      "c:\\Users\\Alexandre\\Documents\\Cour_Dauphine\\POO\\POO_DHENIN_MANELLI\\classes\\Backtest.py:13: UserWarning: Running this module requires the package: polars 0.15.14\n",
      "  warn('Running this module requires the package: polars 0.15.14')\n"
     ]
    }
   ],
   "source": [
    "import pandas as pd\n",
    "import polars as pl\n",
    "from classes.Backtest import PositionGenerator, Config, Frequency, Backtester"
   ]
  },
  {
   "cell_type": "code",
   "execution_count": 2,
   "metadata": {},
   "outputs": [
    {
     "data": {
      "text/html": [
       "<div>\n",
       "<style scoped>\n",
       "    .dataframe tbody tr th:only-of-type {\n",
       "        vertical-align: middle;\n",
       "    }\n",
       "\n",
       "    .dataframe tbody tr th {\n",
       "        vertical-align: top;\n",
       "    }\n",
       "\n",
       "    .dataframe thead th {\n",
       "        text-align: right;\n",
       "    }\n",
       "</style>\n",
       "<table border=\"1\" class=\"dataframe\">\n",
       "  <thead>\n",
       "    <tr style=\"text-align: right;\">\n",
       "      <th></th>\n",
       "      <th>ts</th>\n",
       "      <th>close</th>\n",
       "    </tr>\n",
       "  </thead>\n",
       "  <tbody>\n",
       "    <tr>\n",
       "      <th>153</th>\n",
       "      <td>2019-07-02</td>\n",
       "      <td>97.345412</td>\n",
       "    </tr>\n",
       "    <tr>\n",
       "      <th>709</th>\n",
       "      <td>2021-08-26</td>\n",
       "      <td>111.269184</td>\n",
       "    </tr>\n",
       "    <tr>\n",
       "      <th>144</th>\n",
       "      <td>2019-06-19</td>\n",
       "      <td>98.383595</td>\n",
       "    </tr>\n",
       "    <tr>\n",
       "      <th>219</th>\n",
       "      <td>2019-10-02</td>\n",
       "      <td>100.067838</td>\n",
       "    </tr>\n",
       "    <tr>\n",
       "      <th>708</th>\n",
       "      <td>2021-08-25</td>\n",
       "      <td>111.269184</td>\n",
       "    </tr>\n",
       "  </tbody>\n",
       "</table>\n",
       "</div>"
      ],
      "text/plain": [
       "            ts       close\n",
       "153 2019-07-02   97.345412\n",
       "709 2021-08-26  111.269184\n",
       "144 2019-06-19   98.383595\n",
       "219 2019-10-02  100.067838\n",
       "708 2021-08-25  111.269184"
      ]
     },
     "execution_count": 2,
     "metadata": {},
     "output_type": "execute_result"
    }
   ],
   "source": [
    "# import raw data base and transform date in timestamp\n",
    "raw = pd.read_csv(\"raw_dataset.csv\")\n",
    "raw.Date = pd.to_datetime(raw.Date)\n",
    "\n",
    "pos = PositionGenerator(\"dataset.csv\")\n",
    "# position is our prediction matrix (1: buy, 0: sell or do not buy)\n",
    "positions = pos.compute_positions()\n",
    "raw = raw.loc[raw['Date'].isin(positions.Date)]\n",
    "raw = pl.convert.from_pandas(raw)\n",
    "conf = Config(\n",
    "    universe=raw.columns[1:],\n",
    "    start_ts=positions.Date.iloc[0],\n",
    "    end_ts=positions.Date.iloc[-1],\n",
    "    strategy_code='strat1',\n",
    "    frequency=Frequency.DAILY,\n",
    "    timeserie=raw,\n",
    ")\n",
    "\n",
    "# backtest\n",
    "backtester = Backtester(conf, timeserie=raw, y_pred=pl.convert.from_pandas(positions))\n",
    "back = pd.DataFrame(backtester.compute_levels())\n",
    "back.sample(5)"
   ]
  }
 ],
 "metadata": {
  "kernelspec": {
   "display_name": "Python 3",
   "language": "python",
   "name": "python3"
  },
  "language_info": {
   "codemirror_mode": {
    "name": "ipython",
    "version": 3
   },
   "file_extension": ".py",
   "mimetype": "text/x-python",
   "name": "python",
   "nbconvert_exporter": "python",
   "pygments_lexer": "ipython3",
   "version": "3.9.13"
  },
  "orig_nbformat": 4,
  "vscode": {
   "interpreter": {
    "hash": "c9b04fdcb430474004bc74d2d28d415b40d0bb88a523fdc7d942e25fe1aa22b8"
   }
  }
 },
 "nbformat": 4,
 "nbformat_minor": 2
}
